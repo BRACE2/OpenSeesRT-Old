{
 "cells": [
  {
   "cell_type": "code",
   "execution_count": 1,
   "id": "37506522-0607-4f52-a2a3-f75166398c56",
   "metadata": {},
   "outputs": [],
   "source": [
    "import opensees\n",
    "from opensees import section, layer, patch, element, uniaxial\n",
    "from opensees.render import mpl as render"
   ]
  },
  {
   "cell_type": "code",
   "execution_count": 2,
   "id": "c70c05e4-b14f-4909-a270-4d0f4f49cdf7",
   "metadata": {},
   "outputs": [],
   "source": [
    "from math import cos,sin,sqrt,pi\n",
    "import opensees\n",
    "import opensees.tcl\n",
    "from opensees.units.english import *\n",
    "# --------------------------------------------------------------------------------------------------\n",
    "# build a section\n",
    "\n",
    "# MATERIAL parameters -------------------------------------------------------------------\n",
    "IDconcU = 1                # material ID tag -- unconfined cover concrete\n",
    "IDreinf = 2                # material ID tag -- reinforcement\n",
    "# nominal concrete compressive strength\n",
    "fc = -4.0*ksi              # Concrete Compressive Strength ksi\n",
    "Ec = 57*ksi*sqrt(-fc/psi)  # Concrete Elastic Modulus\n",
    "# unconfined concrete\n",
    "fc1U = fc                  # UNCONFINED concrete (todeschini parabolic model) maximum stress\n",
    "eps1U = -0.003             # strain at maximum strength of unconfined concrete\n",
    "fc2U = 0.2*fc1U            # ultimate stress\n",
    "eps2U = -0.01              # strain at ultimate stress\n",
    "_lambda = 0.1              # ratio between unloading slope at eps2 and initial slope Ec\n",
    "# tensile-strength properties\n",
    "ftU = -0.14*fc1U           # tensile strength +tension\n",
    "Ets = ftU/0.002            # tension softening stiffness\n",
    "# -----------\n",
    "Fy = 66.8*ksi              # STEEL yield stress\n",
    "Es = 29000.*ksi            # modulus of steel\n",
    "Bs = 0.005                 # strain-hardening ratio \n",
    "R0 = 18                    # control the transition from elastic to plastic branches\n",
    "cR1 = 0.925                # control the transition from elastic to plastic branches\n",
    "cR2 = 0.15                 # control the transition from elastic to plastic branches"
   ]
  },
  {
   "cell_type": "code",
   "execution_count": 3,
   "id": "f12b05bd-f255-4eed-8e6d-19463e33e1f6",
   "metadata": {},
   "outputs": [],
   "source": [
    "concU = uniaxial.Concrete02(IDconcU, fc1U, eps1U, fc2U, eps2U, _lambda, ftU, Ets)      # build 'cover, concrete (unconfined)\n",
    "reinf = uniaxial.Steel02(IDreinf, Fy, Es, Bs, R0, cR1, cR2)                            # build 'reinforcement' material"
   ]
  },
  {
   "cell_type": "markdown",
   "id": "b56b3b1e-f470-400c-b3ca-6524d652dc98",
   "metadata": {},
   "source": [
    "## Section Geometry\n",
    "```\n",
    "                      y\n",
    "                      ^\n",
    "                      |     \n",
    "           ---------------------     --   --\n",
    "           |   o     o     o   |     |    -- cover\n",
    "           |                   |     |\n",
    "           |                   |     |\n",
    "    z <--- |         +         |     H\n",
    "           |                   |     |\n",
    "           |                   |     |\n",
    "           |   o     o     o   |     |    -- cover\n",
    "           ---------------------     --   --\n",
    "           |-------- B ---------|\n",
    "```"
   ]
  },
  {
   "cell_type": "code",
   "execution_count": 4,
   "id": "288361ee-82d0-4812-8e8e-ce520bda1799",
   "metadata": {},
   "outputs": [],
   "source": [
    "HSec = 5.*ft            # Column Depth\n",
    "BSec = 3.*ft            # Column Width\n",
    "coverSec = 5.*inch      # Column cover to reinforcing steel NA.\n",
    "numBarsSec = 4          # number of longitudinal-reinforcement bars in steel layer. (symmetric top & bot)\n",
    "barAreaSec = 1*in2      # area of longitudinal-reinforcement bars\n",
    "SecTag = 1              # tag = for symmetric section\n",
    "\n",
    "# FIBER SECTION properties -------------------------------------------------------------\n",
    "# RC section: \n",
    "coverY = HSec/2.0        # Distance from section z-axis to edge of cover concrete -- outer edge of cover concrete\n",
    "coverZ = BSec/2.0        # Distance from section y-axis to edge of cover concrete -- outer edge of cover concrete\n",
    "coreY = coverY-coverSec  # Distance from section z-axis to edge of core concrete --  edge of the core concrete/inner edge of cover concrete\n",
    "coreZ = coverZ-coverSec  # Distance from section y-axis to edge of core concrete --  edge of the core concrete/inner edge of cover concrete\n",
    "nfY = 16                 # number of fibers for concrete in y-direction\n",
    "nfZ = 4                  # number of fibers for concrete in z-direction"
   ]
  },
  {
   "cell_type": "code",
   "execution_count": 5,
   "id": "2d2928ce-67b7-498e-9130-8532080be6b2",
   "metadata": {},
   "outputs": [],
   "source": [
    "# Define the fiber section\n",
    "sect = section.FiberSection(SecTag,  1e6, [       \n",
    "   patch.quad(concU, [nfZ, nfY],    # Define the, concrete 'patch'\n",
    "       [[-coverY, coverZ],[-coverY, -coverZ],\n",
    "        [coverY, -coverZ],[coverY, coverZ]]),\n",
    "   layer.line(reinf, numBarsSec, barAreaSec, [[ coreY, coreZ],[ coreY, -coreZ]]),  # top layer reinforcement\n",
    "   layer.line(reinf, numBarsSec, barAreaSec, [[-coreY, coreZ],[-coreY, -coreZ]]),  # bottom layer reinfocement\n",
    "])"
   ]
  },
  {
   "cell_type": "code",
   "execution_count": 6,
   "id": "dd42acdc-970f-41b4-b362-ad942130752c",
   "metadata": {},
   "outputs": [
    {
     "data": {
      "text/plain": [
       "<AxesSubplot:>"
      ]
     },
     "execution_count": 6,
     "metadata": {},
     "output_type": "execute_result"
    },
    {
     "data": {
      "image/png": "[encoded data removed]",
      "text/plain": [
       "<Figure size 432x288 with 1 Axes>"
      ]
     },
     "metadata": {
      "needs_background": "light"
     },
     "output_type": "display_data"
    }
   ],
   "source": [
    "render.section(sect)"
   ]
  },
  {
   "cell_type": "code",
   "execution_count": 7,
   "id": "47c19cd2-193b-4fff-a20f-0914998f7de3",
   "metadata": {},
   "outputs": [
    {
     "name": "stdout",
     "output_type": "stream",
     "text": [
      "ptr\t <capsule object NULL at 0x7f7ee1ed3240>\n",
      "itemsize\t 8\n",
      "format\t d\n",
      "ndim\t 1\n",
      "shape\t [2]\n",
      "strides\t [8]\n",
      "array\t [0.001  0.0001]\n",
      "[-1179810.28319556 44656395.7301852 ]\n",
      "[-2618400.28416247 65680643.59768373]\n",
      "[-2618400.28416247 65680643.59768373]\n"
     ]
    }
   ],
   "source": [
    "with sect as s:\n",
    "    import opensees.libOpenSeesRT\n",
    "    s.setTrialSectionDeformation(opensees.libOpenSeesRT.Vector([0.001, 0.0001]))\n",
    "    print(s.getStressResultant())\n",
    "    \n",
    "    s.setTrialSectionDeformation([0.001, 0.0002])\n",
    "    print(s.getStressResultant())\n",
    "    \n",
    "    print(s.getStressResultant([0.001, 0.0002], False))"
   ]
  },
  {
   "cell_type": "code",
   "execution_count": 8,
   "id": "02231895-4279-45bc-87b3-c77e5da65380",
   "metadata": {},
   "outputs": [
    {
     "name": "stdout",
     "output_type": "stream",
     "text": [
      "uniaxialMaterial Concrete02  1  -4000.0  -0.003  -800.0  -0.01  0.1  560.0  280000.0 \n",
      "uniaxialMaterial Steel02  2  66800.0  29000000.0  0.005  18  0.925  0.15 \n",
      "section FiberSection  1 -GJ 1000000.0  { \n",
      "\tpatch quad  1   4  16    -30.000000000000004  18.000000000000004   -30.000000000000004  -18.000000000000004   30.000000000000004  -18.000000000000004   30.000000000000004  18.000000000000004 \n",
      "\tlayer line  2  4  1.0    25.000000000000004  13.000000000000004   25.000000000000004  -13.000000000000004 \n",
      "\tlayer line  2  4  1.0    -25.000000000000004  13.000000000000004   -25.000000000000004  -13.000000000000004 \n",
      "} \n",
      "\n"
     ]
    }
   ],
   "source": [
    "print(opensees.tcl.dumps(sect))"
   ]
  },
  {
   "cell_type": "code",
   "execution_count": 9,
   "id": "48463399-881c-42f3-827e-2502451c2f77",
   "metadata": {},
   "outputs": [
    {
     "ename": "AttributeError",
     "evalue": "'Fiber' object has no attribute 'fibers'",
     "output_type": "error",
     "traceback": [
      "\u001b[0;31m---------------------------------------------------------------------------\u001b[0m",
      "\u001b[0;31mAttributeError\u001b[0m                            Traceback (most recent call last)",
      "\u001b[0;32m/tmp/ipykernel_10021/3447022525.py\u001b[0m in \u001b[0;36m<module>\u001b[0;34m\u001b[0m\n\u001b[0;32m----> 1\u001b[0;31m \u001b[0msect\u001b[0m\u001b[0;34m.\u001b[0m\u001b[0mfibers\u001b[0m\u001b[0;34m[\u001b[0m\u001b[0;34m-\u001b[0m\u001b[0;36m1\u001b[0m\u001b[0;34m]\u001b[0m\u001b[0;34m.\u001b[0m\u001b[0mfibers\u001b[0m\u001b[0;34m\u001b[0m\u001b[0;34m\u001b[0m\u001b[0m\n\u001b[0m",
      "\u001b[0;31mAttributeError\u001b[0m: 'Fiber' object has no attribute 'fibers'"
     ]
    }
   ],
   "source": [
    "sect.fibers[-1].fibers"
   ]
  },
  {
   "cell_type": "code",
   "execution_count": null,
   "id": "a67b7158-779f-473c-9f1c-02259f453dee",
   "metadata": {},
   "outputs": [],
   "source": []
  }
 ],
 "metadata": {
  "kernelspec": {
   "display_name": "Python (elle)",
   "language": "python",
   "name": "elle"
  },
  "language_info": {
   "codemirror_mode": {
    "name": "ipython",
    "version": 3
   },
   "file_extension": ".py",
   "mimetype": "text/x-python",
   "name": "python",
   "nbconvert_exporter": "python",
   "pygments_lexer": "ipython3",
   "version": "3.8.12"
  }
 },
 "nbformat": 4,
 "nbformat_minor": 5
}
