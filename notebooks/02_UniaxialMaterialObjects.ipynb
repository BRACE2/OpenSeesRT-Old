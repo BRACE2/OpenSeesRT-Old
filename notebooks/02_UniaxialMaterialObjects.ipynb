{
 "cells": [
  {
   "cell_type": "markdown",
   "id": "955daa7d-543d-4838-89cc-4e51e0f0f732",
   "metadata": {},
   "source": [
    "# Uniaxial Materials\n",
    "\n",
    "The `UniaxialMaterial` object has the following methods:\n",
    "\n",
    "> ```python\n",
    "> setTrialStrain(strain: float) -> float\n",
    "> getStress(strain: float = None, commit: bool =False) -> float\n",
    "> ```\n"
   ]
  },
  {
   "cell_type": "code",
   "execution_count": 1,
   "id": "12d1e341-8b45-4d32-92e8-c183160179b2",
   "metadata": {},
   "outputs": [],
   "source": [
    "from opensees import uniaxial\n",
    "from opensees.units.english import ksi, psi, inch, ft, MPa\n",
    "\n",
    "import numpy as np\n",
    "from numpy import sin, linspace, pi, sqrt\n",
    "\n",
    "import matplotlib.pyplot as plt\n",
    "try:\n",
    "    # Try loading a plotting style that may not be installed\n",
    "    plt.style.use(\"typewriter\")\n",
    "except:\n",
    "    pass"
   ]
  },
  {
   "cell_type": "markdown",
   "id": "6c20330c-cf51-4e9f-a328-1194bc5c7877",
   "metadata": {},
   "source": [
    "## Plasticity"
   ]
  },
  {
   "cell_type": "code",
   "execution_count": 2,
   "id": "63e44509-6c3c-4d9c-85e8-0038175af7d6",
   "metadata": {},
   "outputs": [],
   "source": [
    "Fy  = 66.8*ksi             # steel yield stress\n",
    "Es  = 29000.*ksi           # modulus of steel"
   ]
  },
  {
   "cell_type": "code",
   "execution_count": 3,
   "id": "e2e2d5ab-2937-4378-a0f3-adafbb06ef9f",
   "metadata": {},
   "outputs": [
    {
     "name": "stderr",
     "output_type": "stream",
     "text": [
      "can't read \"epsyP\": no such variable\n",
      "    while executing\n",
      "\"uniaxialMaterial ElasticPP $uniaxialMaterial(29000000.0)  0.002303448275862069  $epsyP \"\n",
      "can't read \"epsyP\": no such variable\n"
     ]
    },
    {
     "ename": "TypeError",
     "evalue": "getUniaxialMaterial(): incompatible function arguments. The following argument types are supported:\n    1. (self: opensees.OpenSeesPyRT.TclBasicModelBuilder, arg0: str) -> opensees.OpenSeesPyRT._UniaxialMaterial\n    2. (self: opensees.OpenSeesPyRT.TclBasicModelBuilder, arg0: int) -> opensees.OpenSeesPyRT._UniaxialMaterial\n\nInvoked with: <opensees.OpenSeesPyRT.TclBasicModelBuilder object at 0x7febd0eebeb0>, 29000000.0",
     "output_type": "error",
     "traceback": [
      "\u001b[0;31m---------------------------------------------------------------------------\u001b[0m",
      "\u001b[0;31mTypeError\u001b[0m                                 Traceback (most recent call last)",
      "Cell \u001b[0;32mIn[3], line 6\u001b[0m\n\u001b[1;32m      1\u001b[0m elastic_pp_material \u001b[38;5;241m=\u001b[39m uniaxial\u001b[38;5;241m.\u001b[39mElasticPP(Es, Fy\u001b[38;5;241m/\u001b[39mEs)\n\u001b[1;32m      3\u001b[0m strain \u001b[38;5;241m=\u001b[39m \u001b[38;5;241m0.005\u001b[39m\u001b[38;5;241m*\u001b[39msin(linspace(\u001b[38;5;241m0\u001b[39m, \u001b[38;5;241m1.0\u001b[39m\u001b[38;5;241m*\u001b[39mpi, \u001b[38;5;241m100\u001b[39m))\n\u001b[0;32m----> 6\u001b[0m \u001b[38;5;28;01mwith\u001b[39;00m elastic_pp_material \u001b[38;5;28;01mas\u001b[39;00m mat:\n\u001b[1;32m      8\u001b[0m     stress_list \u001b[38;5;241m=\u001b[39m []\n\u001b[1;32m      9\u001b[0m     \u001b[38;5;28;01mfor\u001b[39;00m e \u001b[38;5;129;01min\u001b[39;00m strain[:\u001b[38;5;241m50\u001b[39m] :\n",
      "File \u001b[0;32m~/mambaforge/envs/brace-app/lib/python3.10/site-packages/opensees/library/obj.py:26\u001b[0m, in \u001b[0;36mComponent.__enter__\u001b[0;34m(self)\u001b[0m\n\u001b[1;32m     24\u001b[0m     tag \u001b[38;5;241m=\u001b[39m \u001b[38;5;28mself\u001b[39m\u001b[38;5;241m.\u001b[39mname \u001b[38;5;28;01mif\u001b[39;00m \u001b[38;5;28mself\u001b[39m\u001b[38;5;241m.\u001b[39mname \u001b[38;5;129;01mis\u001b[39;00m \u001b[38;5;129;01mnot\u001b[39;00m \u001b[38;5;28;01mNone\u001b[39;00m \u001b[38;5;28;01melse\u001b[39;00m \u001b[38;5;124m\"\u001b[39m\u001b[38;5;124m1\u001b[39m\u001b[38;5;124m\"\u001b[39m\n\u001b[1;32m     25\u001b[0m     \u001b[38;5;28mself\u001b[39m\u001b[38;5;241m.\u001b[39m_builder \u001b[38;5;241m=\u001b[39m libOpenSeesRT\u001b[38;5;241m.\u001b[39mget_builder(rt\u001b[38;5;241m.\u001b[39m_interp\u001b[38;5;241m.\u001b[39minterpaddr())\n\u001b[0;32m---> 26\u001b[0m     handle \u001b[38;5;241m=\u001b[39m \u001b[38;5;28;43mself\u001b[39;49m\u001b[38;5;241;43m.\u001b[39;49m\u001b[43m_builder\u001b[49m\u001b[38;5;241;43m.\u001b[39;49m\u001b[43mgetUniaxialMaterial\u001b[49m\u001b[43m(\u001b[49m\u001b[43mtag\u001b[49m\u001b[43m)\u001b[49m\n\u001b[1;32m     28\u001b[0m \u001b[38;5;28;01melif\u001b[39;00m \u001b[38;5;28mself\u001b[39m\u001b[38;5;241m.\u001b[39mtag_space \u001b[38;5;241m==\u001b[39m \u001b[38;5;124m\"\u001b[39m\u001b[38;5;124msection\u001b[39m\u001b[38;5;124m\"\u001b[39m:\n\u001b[1;32m     29\u001b[0m     rt\u001b[38;5;241m.\u001b[39msend(\u001b[38;5;28mself\u001b[39m, ndm\u001b[38;5;241m=\u001b[39m\u001b[38;5;241m2\u001b[39m, ndf\u001b[38;5;241m=\u001b[39m\u001b[38;5;241m3\u001b[39m)\n",
      "\u001b[0;31mTypeError\u001b[0m: getUniaxialMaterial(): incompatible function arguments. The following argument types are supported:\n    1. (self: opensees.OpenSeesPyRT.TclBasicModelBuilder, arg0: str) -> opensees.OpenSeesPyRT._UniaxialMaterial\n    2. (self: opensees.OpenSeesPyRT.TclBasicModelBuilder, arg0: int) -> opensees.OpenSeesPyRT._UniaxialMaterial\n\nInvoked with: <opensees.OpenSeesPyRT.TclBasicModelBuilder object at 0x7febd0eebeb0>, 29000000.0"
     ]
    }
   ],
   "source": [
    "elastic_pp_material = uniaxial.ElasticPP(Es, Fy/Es)\n",
    "\n",
    "strain = 0.005*sin(linspace(0, 1.0*pi, 100))\n",
    "\n",
    "\n",
    "with elastic_pp_material as mat:\n",
    "\n",
    "    stress_list = []\n",
    "    for e in strain[:50] :\n",
    "        stress_list.append(mat.getStress(e, commit=True))\n",
    "        \n",
    "    for e in strain[50:] :\n",
    "        stress_list.append(mat.getStress(e, commit=False))\n",
    "\n",
    "# create a plotting figure\n",
    "fig, ax = plt.subplots()    \n",
    "ax.plot(strain, stress_list, label=\"ElasticPP\");"
   ]
  },
  {
   "cell_type": "code",
   "execution_count": null,
   "id": "d33daf0c-e849-4463-b51c-0d3794ce17c5",
   "metadata": {},
   "outputs": [],
   "source": [
    "fig, ax = plt.subplots()\n",
    "\n",
    "strain = 0.005*sin(linspace(0, 2.5*pi, 100))\n",
    "\n",
    "with uniaxial.ElasticPP(1, Es, Fy/Es) as mat:\n",
    "    stress = [mat.getStress(e, commit=True) for e in strain]\n",
    "    ax.plot(strain, stress, label=\"ElasticPP\")\n",
    "\n",
    "with uniaxial.Hardening(1, Es, Fy, 0.0*Es, 0.1*Es) as mat:\n",
    "    ax.plot(strain, [mat.getStress(e, commit=True) for e in strain], label=\"Hardening\")\n"
   ]
  },
  {
   "cell_type": "markdown",
   "id": "a8293ce1-61f7-4a4f-9b76-eae0f4c8d045",
   "metadata": {
    "tags": []
   },
   "source": [
    "## Reinforcing Steel\n",
    "\n",
    "The following features are typically desired of a reinforcing steel model:\n",
    "\n",
    "- Bauschinger effect\n",
    "- Low-cycle fatigue\n",
    "- Buckling\n",
    "- Hardening"
   ]
  },
  {
   "cell_type": "code",
   "execution_count": null,
   "id": "942495de-18f0-4ae7-947d-35dd18097294",
   "metadata": {},
   "outputs": [],
   "source": [
    "Bs  = 0.005                # strain-hardening ratio \n",
    "R0  = 18                   # control the transition from elastic to plastic branches\n",
    "cR1 = 0.925                # \"\n",
    "cR2 = 0.15                 # \""
   ]
  },
  {
   "cell_type": "code",
   "execution_count": null,
   "id": "e72054c1-3366-4569-ae9e-88f3253e8d67",
   "metadata": {},
   "outputs": [],
   "source": [
    "tangent = []\n",
    "\n",
    "#                     no tag needed\n",
    "steel = uniaxial.Steel02(None, Fy, Es, 0.05, R0=R0)\n",
    "\n",
    "\n",
    "strain = 0.005*sin(linspace(0, 2.5*pi, 100))\n",
    "\n",
    "\n",
    "with steel as mat:\n",
    "    for e in strain:\n",
    "        mat.setTrialStrain(e)\n",
    "        Et = mat.getTangent()\n",
    "        tangent.append(Et)\n",
    "        mat.commitState()"
   ]
  },
  {
   "cell_type": "code",
   "execution_count": null,
   "id": "38e96547-8725-489a-b8c5-5408e22a4b8e",
   "metadata": {},
   "outputs": [],
   "source": [
    "fig, ax = plt.subplots()\n",
    "ax.plot(tangent)\n",
    "ax.set_ylabel(\"$E_t$\")\n",
    "ax.set_xlabel(r\"$\\tau$\");"
   ]
  },
  {
   "cell_type": "code",
   "execution_count": null,
   "id": "31fa161a-f460-4830-a54a-43ba4080497c",
   "metadata": {},
   "outputs": [],
   "source": [
    "strain = 0.02*sin(linspace(0, 5.5*pi, 300))*linspace(0.5, 1, 300)**2\n",
    "\n",
    "Bs = 0.1\n",
    "fig, ax = plt.subplots()\n",
    "\n",
    "\n",
    "with uniaxial.Hardening(None, Es, Fy, 0.002*Es, Bs*Es) as steel:\n",
    "    ax.plot(strain, [steel.getStress(e, commit=True) for e in strain], label=\"Hardening\")\n",
    "\n",
    "\n",
    "with uniaxial.Steel02(None, Fy, Es, Bs, R0) as steel:\n",
    "    ax.plot(strain, [steel.getStress(e, commit=True) for e in strain], label=\"Steel02\")\n",
    "\n",
    "\n",
    "with uniaxial.RambergOsgoodSteel(None, Fy, Es, 0.002, R0) as steel:\n",
    "    ax.plot(strain, [steel.getStress(e, commit=True) for e in strain], label=\"RambergOsgoodSteel\")\n",
    "\n",
    "\n",
    "# esh, esu = 10*Fy/Es, 14*Fy/Es\n",
    "# eshi = (esu + 5*esh)/5\n",
    "# with uniaxial.DoddRestrepo(None, Fy, 1.2*Fy, esh, esu, Es, eshi, 1.1*Fy) as steel:\n",
    "#     ax.plot(strain, [steel.getStress(e, commit=True) for e in strain], \":\", label=\"DoddRestrepo\")\n",
    "\n",
    "\n",
    "# n = 11\n",
    "# c = (Es/Fy)**(n)\n",
    "# eta = [0.0*c, 1.*c]\n",
    "# with uniaxial.BoucWen(None, Bs, 1., n, eta, [1, 0.0], [0.0, 0.0]) as m:\n",
    "#     stress = [Es*m.getStress(e, commit=True) for e in strain]\n",
    "#     ax.plot(strain, stress, \"-.\", label=\"BoucWen - GMP\")\n",
    "\n",
    "# eta = [0.5*c, 0.5*c]\n",
    "# with uniaxial.BoucWen(None, Bs, 1., n, eta, [1, 0.0], [0.0, 0.0]) as m:\n",
    "#     stress = [Es*m.getStress(e, commit=True) for e in strain]\n",
    "#     ax.plot(strain, stress, \"-.\", label=\"BoucWen - Plastic\")\n",
    "    \n",
    "# uniaxial.Bond_SP01(1, Fy, Sy=1.0, Fu=1.4*Fy, Su=, b=, R=)\n",
    "\n",
    "ax.set_xlabel(r\"$\\varepsilon$\")\n",
    "ax.set_ylabel(r\"$\\sigma$\")\n",
    "ax.legend();"
   ]
  },
  {
   "cell_type": "markdown",
   "id": "7994ae2d-29a0-4ce7-b7ae-557d8ba85c34",
   "metadata": {},
   "source": [
    "## Concrete"
   ]
  },
  {
   "cell_type": "code",
   "execution_count": null,
   "id": "0f5b04af-6aaf-45be-9b06-8ddeb112a81f",
   "metadata": {},
   "outputs": [],
   "source": [
    "# nominal concrete compressive strength\n",
    "fc = -8.5*ksi              # Concrete compressive strength ksi   (+Tension -Compression)\n",
    "Ec = 57*ksi*sqrt(-fc/psi)  # Concrete Elastic Modulus\n",
    "\n",
    "# unconfined concrete\n",
    "fc1U = fc                  # unconfined concrete (todeschini parabolic model) maximum stress\n",
    "eps1U = -0.003             # strain at maximum strength of unconfined concrete\n",
    "fc2U = 0.2*fc1U            # ultimate stress\n",
    "eps2U = -0.01              # strain at ultimate stress\n",
    "_lambda = 0.1              # ratio between unloading slope at eps2 and initial slope Ec\n",
    "\n",
    "# tensile-strength properties\n",
    "ftU = -0.14*fc1U           # tensile strength +tension\n",
    "Ets = ftU/0.002            # tension softening stiffness"
   ]
  },
  {
   "cell_type": "code",
   "execution_count": null,
   "id": "aac039cd-984b-420a-8337-2eea1ae6403f",
   "metadata": {},
   "outputs": [],
   "source": [
    "strain  = -0.006*sin(linspace(0, 2*pi, 500))\n",
    "fig, ax = plt.subplots()\n",
    "\n",
    "with uniaxial.Concrete02(1, fc1U, eps1U, fc2U, eps2U, _lambda, ftU, Ets) as c:\n",
    "    ax.plot(strain, [c.getStress(e, commit=True) for e in strain], label=\"Concrete02\")\n",
    "    \n",
    "with uniaxial.Concrete02IS(1, Ec, fc1U, eps1U, fc2U, eps2U, [_lambda, ftU, Ets]) as conc:\n",
    "    ax.plot(strain, [conc.getStress(e, commit=True) for e in strain], label=\"Concrete02IS\")\n",
    "\n",
    "with uniaxial.Concrete04(1, fc1U, eps1U, eps2U, 4e3*ksi, [ftU, ftU/Ets]) as conc:\n",
    "    ax.plot(strain, [conc.getStress(e, commit=True) for e in strain], label=\"Concrete04\")\n",
    "\n",
    "with uniaxial.ConcreteCM( 1, fc1U, eps1U, 4500*ksi, 7, 1.035, 0.30, 0.00008, 1.2, 10000) as conc:\n",
    "    ax.plot(strain, [conc.getStress(e, commit=True) for e in strain], label=\"ConcreteCM\")\n",
    "\n",
    "ax.legend()\n",
    "ax.set_xlabel(r\"$\\epsilon$\")\n",
    "ax.set_ylabel(r\"$\\sigma$\");"
   ]
  },
  {
   "cell_type": "code",
   "execution_count": null,
   "id": "f499e0ab-0ed5-4725-8c7d-572bddbb44b7",
   "metadata": {},
   "outputs": [],
   "source": [
    "strain = 0.02*sin(linspace(0, 5.5*pi, 300))*linspace(0.5, 1, 300)**2"
   ]
  },
  {
   "cell_type": "code",
   "execution_count": null,
   "id": "713b2804-dec2-4aca-a144-f889fc551f12",
   "metadata": {},
   "outputs": [],
   "source": [
    "fig, ax = plt.subplots()\n",
    "ax.plot(strain)\n",
    "ax.set_xlabel(r\"$\\tau$\")\n",
    "ax.set_ylabel(r\"$\\varepsilon$\")\n",
    "ax.set_title(\"Strain history\");"
   ]
  },
  {
   "cell_type": "markdown",
   "id": "69ec1c3b-1125-49a5-ba02-caac0c1c9da4",
   "metadata": {},
   "source": [
    "## Parallel Composition"
   ]
  },
  {
   "cell_type": "markdown",
   "id": "c4e14fb9-2446-4723-8b77-98ce232c3fd8",
   "metadata": {},
   "source": [
    "### Bilinear Flag"
   ]
  },
  {
   "cell_type": "code",
   "execution_count": null,
   "id": "b32b51e1-1cca-4c04-89b5-8e8ec006f37b",
   "metadata": {},
   "outputs": [],
   "source": [
    "mat_a = uniaxial.Hardening(1, 15e3, fy=15., H_iso=0., H_kin=5e1)\n",
    "mat_b = uniaxial.ElasticBilin(2, 45e3, 1e2, 15/15e3)"
   ]
  },
  {
   "cell_type": "code",
   "execution_count": null,
   "id": "56fa1f66-57c4-4d17-b8ab-69cec105a4f1",
   "metadata": {},
   "outputs": [],
   "source": [
    "fig, ax = plt.subplots(1,2, sharey=True, constrained_layout=True)\n",
    "\n",
    "with mat_a as m:\n",
    "    ax[0].plot(strain, [m.getStress(e, commit=True) for e in strain])\n",
    "\n",
    "with mat_b as m:\n",
    "    ax[0].plot(strain, [m.getStress(e, commit=True) for e in strain])\n",
    "\n",
    "\n",
    "# with mat_a as m:\n",
    "#     ax[0].plot(strain, [m.getStress(e, commit=True) for e in strain])\n",
    "with uniaxial.Parallel(3, [mat_a, mat_b]) as m:\n",
    "    ax[1].plot(strain, [m.getStress(e, commit=True) for e in strain])\n",
    "\n",
    "\n",
    "ax[0].set_title(\"Component Models\")\n",
    "ax[1].set_title(\"Composite Model\")\n",
    "for a in ax:\n",
    "    a.set_xlabel(r\"$\\varepsilon$\");\n",
    "    a.set_ylabel(r\"$\\sigma$\");"
   ]
  },
  {
   "cell_type": "markdown",
   "id": "0120a8c5-8fa0-458a-9b5c-0766b6ff9447",
   "metadata": {},
   "source": [
    "## Series Composition"
   ]
  },
  {
   "cell_type": "markdown",
   "id": "1bc5db3a-de7f-4085-8979-be1fe9803c36",
   "metadata": {},
   "source": [
    "### Brittle Fracture"
   ]
  },
  {
   "cell_type": "markdown",
   "id": "09df763c-ee08-4612-9420-4705a659cf9a",
   "metadata": {},
   "source": [
    "### Trilinear Response"
   ]
  },
  {
   "cell_type": "code",
   "execution_count": null,
   "id": "17b6f93c-b4de-4725-832b-84a0c95d1730",
   "metadata": {},
   "outputs": [],
   "source": [
    "mat_a = uniaxial.Hardening(None, 40e3, fy=40., H_iso=0., H_kin=5e3)\n",
    "mat_b = uniaxial.Hardening(None, 30e3, fy=60., H_iso=0., H_kin=5e2)"
   ]
  },
  {
   "cell_type": "code",
   "execution_count": null,
   "id": "5040b596-e6ae-49fb-ab2d-199b96c03987",
   "metadata": {},
   "outputs": [],
   "source": [
    "fig, ax = plt.subplots(1,2, sharey=True, constrained_layout=True)\n",
    "\n",
    "with mat_a as m:\n",
    "    ax[0].plot(strain, [m.getStress(e, commit=True) for e in strain])\n",
    "    \n",
    "with mat_b as m:\n",
    "    ax[0].plot(strain, [m.getStress(e, commit=True) for e in strain])\n",
    "    \n",
    "with uniaxial.Series(3, [mat_a, mat_b]) as m:\n",
    "    ax[1].plot(strain, [m.getStress(e, commit=True) for e in strain])\n",
    "\n",
    "    \n",
    "ax[0].set_title(\"Component Models\")\n",
    "ax[1].set_title(\"Composite Model\")\n",
    "for a in ax:\n",
    "    a.set_xlabel(r\"$\\varepsilon$\");\n",
    "    a.set_ylabel(r\"$\\sigma$\");"
   ]
  },
  {
   "cell_type": "markdown",
   "id": "bd2147ed-9476-42ee-b4bb-08bb7b928dad",
   "metadata": {},
   "source": [
    "### Slipping"
   ]
  },
  {
   "cell_type": "code",
   "execution_count": null,
   "id": "8df41129-686a-47a7-8f3b-7cb7246f4af9",
   "metadata": {},
   "outputs": [],
   "source": [
    "mat_a = uniaxial.Hardening(None, 30e3, fy=60., H_iso=0., H_kin=1e2)\n",
    "mat_b = uniaxial.ElasticBilin(None, 10.0, 30e3, 0.01)"
   ]
  },
  {
   "cell_type": "code",
   "execution_count": null,
   "id": "5ac12d6a-5f12-45cb-b362-24a225876a4a",
   "metadata": {
    "tags": []
   },
   "outputs": [],
   "source": [
    "fig, ax = plt.subplots(1, 2, sharey=True, constrained_layout=True)\n",
    "\n",
    "with mat_a as m:\n",
    "    ax[0].plot(strain, [m.getStress(e, commit=True) for e in strain])\n",
    "    \n",
    "with mat_b as m:\n",
    "    ax[0].plot(strain, [m.getStress(e, commit=True) for e in strain])\n",
    "\n",
    "with uniaxial.Series(None, [mat_a, mat_b]) as m:\n",
    "    ax[1].plot(strain, [m.getStress(e, commit=True) for e in strain])\n",
    "\n",
    "\n",
    "ax[0].set_title(\"Component Models\")\n",
    "ax[1].set_title(\"Composite Model\")\n",
    "for a in ax:\n",
    "    a.set_xlabel(r\"$\\varepsilon$\");\n",
    "    a.set_ylabel(r\"$\\sigma$\");"
   ]
  },
  {
   "cell_type": "code",
   "execution_count": null,
   "id": "95197e2a-a677-4b82-810c-2aef1fb1d135",
   "metadata": {},
   "outputs": [],
   "source": []
  }
 ],
 "metadata": {
  "kernelspec": {
   "display_name": "Python (brace-app)",
   "language": "python",
   "name": "brace-app"
  },
  "language_info": {
   "codemirror_mode": {
    "name": "ipython",
    "version": 3
   },
   "file_extension": ".py",
   "mimetype": "text/x-python",
   "name": "python",
   "nbconvert_exporter": "python",
   "pygments_lexer": "ipython3",
   "version": "3.10.5"
  }
 },
 "nbformat": 4,
 "nbformat_minor": 5
}
