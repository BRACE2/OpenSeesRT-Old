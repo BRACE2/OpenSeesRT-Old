{
 "cells": [
  {
   "cell_type": "code",
   "execution_count": 1,
   "id": "7c17611e-6e65-4f95-b0ed-8591b327b9ea",
   "metadata": {},
   "outputs": [],
   "source": [
    "!export OPENSEESRT_LIB=\"/home/claudio/packages/opensees-pypi/build/temp.linux-x86_64-cpython-39_rt/src/libg3/SRC/api/tclCommandPackage/libOpenSeesRT.so\"\n",
    "\n",
    "\n",
    "import opensees.tcl\n",
    "import opensees.material"
   ]
  },
  {
   "cell_type": "code",
   "execution_count": null,
   "id": "70267ad0-b920-47fb-adcb-8a33edc3a0ba",
   "metadata": {},
   "outputs": [],
   "source": []
  },
  {
   "cell_type": "code",
   "execution_count": 5,
   "id": "a83701ce-7f87-4f90-95aa-dffdf455b802",
   "metadata": {},
   "outputs": [],
   "source": [
    "j2 = opensees.material.MultiaxialMaterial(\"J2Plasticity\", [1, 1e3, 1e3, 50e3, 60e3, 1.0, 1.0])"
   ]
  },
  {
   "cell_type": "code",
   "execution_count": 6,
   "id": "ede79d85-bd9f-4be5-92ef-f3c2b74d5b89",
   "metadata": {},
   "outputs": [
    {
     "name": "stdout",
     "output_type": "stream",
     "text": [
      "set nDMaterial(1) 1\n",
      "\n",
      "nDMaterial J2Plasticity $nDMaterial(1)  1000.0  1000.0  50000.0  60000.0  1.0  1.0 \n",
      "\n"
     ]
    }
   ],
   "source": [
    "print(opensees.tcl.dumps(j2))"
   ]
  },
  {
   "cell_type": "code",
   "execution_count": 7,
   "id": "903b73c5-f131-418e-969e-ff0c02f49b5e",
   "metadata": {},
   "outputs": [
    {
     "name": "stdout",
     "output_type": "stream",
     "text": [
      "1\n"
     ]
    },
    {
     "ename": "IndexError",
     "evalue": "unordered_map::at",
     "output_type": "error",
     "traceback": [
      "\u001b[0;31m---------------------------------------------------------------------------\u001b[0m",
      "\u001b[0;31mIndexError\u001b[0m                                Traceback (most recent call last)",
      "Input \u001b[0;32mIn [7]\u001b[0m, in \u001b[0;36m<cell line: 1>\u001b[0;34m()\u001b[0m\n\u001b[0;32m----> 1\u001b[0m \u001b[38;5;28;01mwith\u001b[39;00m j2 \u001b[38;5;28;01mas\u001b[39;00m m:\n\u001b[1;32m      2\u001b[0m     \u001b[38;5;28;01mpass\u001b[39;00m\n",
      "File \u001b[0;32m~/packages/opensees-pypi/src/opensees/obj.py:33\u001b[0m, in \u001b[0;36mComponent.__enter__\u001b[0;34m(self)\u001b[0m\n\u001b[1;32m     31\u001b[0m     \u001b[38;5;28mprint\u001b[39m(tag)\n\u001b[1;32m     32\u001b[0m     \u001b[38;5;28mself\u001b[39m\u001b[38;5;241m.\u001b[39m_builder \u001b[38;5;241m=\u001b[39m libOpenSeesRT\u001b[38;5;241m.\u001b[39mget_builder(rt\u001b[38;5;241m.\u001b[39m_interp\u001b[38;5;241m.\u001b[39minterpaddr())\n\u001b[0;32m---> 33\u001b[0m     handle \u001b[38;5;241m=\u001b[39m \u001b[38;5;28;43mself\u001b[39;49m\u001b[38;5;241;43m.\u001b[39;49m\u001b[43m_builder\u001b[49m\u001b[38;5;241;43m.\u001b[39;49m\u001b[43mgetNDMaterial\u001b[49m\u001b[43m(\u001b[49m\u001b[38;5;28;43mstr\u001b[39;49m\u001b[43m(\u001b[49m\u001b[43mtag\u001b[49m\u001b[43m)\u001b[49m\u001b[43m)\u001b[49m\n\u001b[1;32m     35\u001b[0m \u001b[38;5;28;01melif\u001b[39;00m \u001b[38;5;28mself\u001b[39m\u001b[38;5;241m.\u001b[39mtag_space \u001b[38;5;241m==\u001b[39m \u001b[38;5;124m\"\u001b[39m\u001b[38;5;124msection\u001b[39m\u001b[38;5;124m\"\u001b[39m:\n\u001b[1;32m     36\u001b[0m     rt\u001b[38;5;241m.\u001b[39msend(\u001b[38;5;28mself\u001b[39m, ndm\u001b[38;5;241m=\u001b[39m\u001b[38;5;241m2\u001b[39m, ndf\u001b[38;5;241m=\u001b[39m\u001b[38;5;241m3\u001b[39m)\n",
      "\u001b[0;31mIndexError\u001b[0m: unordered_map::at"
     ]
    }
   ],
   "source": [
    "with j2 as m:\n",
    "    pass"
   ]
  },
  {
   "cell_type": "code",
   "execution_count": null,
   "id": "079f2dcc-4767-4978-94f2-66c86a4f1ef4",
   "metadata": {},
   "outputs": [],
   "source": [
    "rt = opensees.tcl.TclRuntime()\n",
    "rt.model(ndm=3, ndf=3)\n",
    "rt.eval(opensees.tcl.dumps(j2))\n",
    "# rt.send(j2)\n",
    "rt.eval(\"print\")"
   ]
  },
  {
   "cell_type": "code",
   "execution_count": null,
   "id": "fdb06e80-9259-477e-a7e5-9d500bfe9953",
   "metadata": {},
   "outputs": [],
   "source": []
  }
 ],
 "metadata": {
  "kernelspec": {
   "display_name": "Mamba-39",
   "language": "python",
   "name": "mamba-py39"
  },
  "language_info": {
   "codemirror_mode": {
    "name": "ipython",
    "version": 3
   },
   "file_extension": ".py",
   "mimetype": "text/x-python",
   "name": "python",
   "nbconvert_exporter": "python",
   "pygments_lexer": "ipython3",
   "version": "3.9.13"
  }
 },
 "nbformat": 4,
 "nbformat_minor": 5
}
